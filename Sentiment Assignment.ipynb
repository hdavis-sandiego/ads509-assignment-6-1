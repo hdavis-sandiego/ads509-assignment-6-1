{
 "cells": [
  {
   "cell_type": "markdown",
   "id": "7f79baf9",
   "metadata": {},
   "source": [
    "# ADS 509 Sentiment Assignment\n",
    "\n",
    "This notebook holds the Sentiment Assignment for Module 6 in ADS 509, Applied Text Mining. Work through this notebook, writing code and answering questions where required. \n",
    "\n",
    "In a previous assignment you put together Twitter data and lyrics data on two artists. In this assignment we apply sentiment analysis to those data sets. If, for some reason, you did not complete that previous assignment, data to use for this assignment can be found in the assignment materials section of Blackboard. \n"
   ]
  },
  {
   "cell_type": "code",
   "execution_count": 1,
   "id": "e2d096b7",
   "metadata": {},
   "outputs": [],
   "source": [
    "import os\n",
    "import re\n",
    "import emoji\n",
    "import pandas as pd\n",
    "import numpy as np\n",
    "\n",
    "from collections import Counter, defaultdict\n",
    "from string import punctuation\n",
    "\n",
    "from nltk.corpus import stopwords\n",
    "\n",
    "sw = stopwords.words(\"english\")"
   ]
  },
  {
   "cell_type": "code",
   "execution_count": 2,
   "id": "6b555ab2",
   "metadata": {},
   "outputs": [
    {
     "name": "stderr",
     "output_type": "stream",
     "text": [
      "[nltk_data] Downloading package stopwords to\n",
      "[nltk_data]     /Users/halledavis/nltk_data...\n",
      "[nltk_data]   Package stopwords is already up-to-date!\n",
      "[nltk_data] Downloading package punkt to\n",
      "[nltk_data]     /Users/halledavis/nltk_data...\n",
      "[nltk_data]   Package punkt is already up-to-date!\n",
      "[nltk_data] Downloading package stopwords to\n",
      "[nltk_data]     /Users/halledavis/nltk_data...\n",
      "[nltk_data]   Package stopwords is already up-to-date!\n"
     ]
    }
   ],
   "source": [
    "# Add any additional import statements you need her\n",
    "\n",
    "import os\n",
    "import emoji\n",
    "import pandas as pd\n",
    "from collections import Counter, defaultdict\n",
    "from nltk.corpus import stopwords\n",
    "from string import punctuation\n",
    "#!pip install wordcloud\n",
    "from wordcloud import WordCloud \n",
    "from sklearn import preprocessing\n",
    "from sklearn.feature_extraction.text import TfidfTransformer, CountVectorizer\n",
    "import glob\n",
    "import nltk\n",
    "nltk.download('stopwords')\n",
    "stopwords = set(nltk.corpus.stopwords.words('english'))\n",
    "import regex as re\n",
    "import nltk\n",
    "nltk.download('punkt')\n",
    "from nltk.tokenize import word_tokenize\n",
    "import glob\n",
    "import mysql.connector\n",
    "import pandas as pd\n",
    "import html\n",
    "import os\n",
    "from collections import Counter, defaultdict\n",
    "from nltk.corpus import stopwords\n",
    "from string import punctuation\n",
    "from sklearn.feature_extraction.text import TfidfTransformer, CountVectorizer\n",
    "import nltk\n",
    "nltk.download('stopwords')\n",
    "stopwords = set(nltk.corpus.stopwords.words('english'))\n",
    "import regex as re\n",
    "import glob\n",
    "from nltk.tokenize.treebank import TreebankWordDetokenizer"
   ]
  },
  {
   "cell_type": "code",
   "execution_count": 3,
   "id": "923b5a86",
   "metadata": {},
   "outputs": [],
   "source": [
    "# change `data_location` to the location of the folder on your machine.\n",
    "#data_location = \"/users/rsadeghian/textmining/ads-tm-api-scrape/\"\n",
    "\n",
    "# These subfolders should still work if you correctly stored the \n",
    "# data from the Module 1 assignment\n",
    "#twitter_folder = \"twitter/\"\n",
    "#lyrics_folder = \"lyrics/\"\n",
    "\n",
    "positive_words_file = \"positive-words.txt\"\n",
    "negative_words_file = \"negative-words.txt\"\n",
    "tidy_text_file = \"tidytext_sentiments.txt\""
   ]
  },
  {
   "cell_type": "markdown",
   "id": "9d3bf93e",
   "metadata": {},
   "source": [
    "## Data Input\n",
    "\n",
    "Now read in each of the corpora. For the lyrics data, it may be convenient to store the entire contents of the file to make it easier to inspect the titles individually, as you'll do in the last part of the assignment. In the solution, I stored the lyrics data in a dictionary with two dimensions of keys: artist and song. The value was the file contents. A Pandas data frame would work equally well. \n",
    "\n",
    "For the Twitter data, we only need the description field for this assignment. Feel free all the descriptions read it into a data structure. In the solution, I stored the descriptions as a dictionary of lists, with the key being the artist. \n",
    "\n",
    "\n"
   ]
  },
  {
   "cell_type": "code",
   "execution_count": 4,
   "id": "debcac5a",
   "metadata": {},
   "outputs": [],
   "source": [
    "# Read in the twitter data\n",
    "\n",
    "artist_files = {'cher':'cher_followers_data.txt',\n",
    "                'robyn':'robynkonichiwa_followers_data.txt'}"
   ]
  },
  {
   "cell_type": "code",
   "execution_count": 58,
   "id": "33483d84",
   "metadata": {},
   "outputs": [],
   "source": [
    "path = \"/Users/halledavis/Desktop/twitter/\"\n",
    "os.chdir(path)\n",
    "twitter_files = os.listdir(\"/Users/halledavis/Desktop/twitter/\")\n",
    "desc_files = [f for f in twitter_files if \"followers_data\" in f]\n",
    "twitter_data = defaultdict(list)\n",
    "for f in desc_files :\n",
    "    artist = f.split(\"_\")[0]\n",
    "        \n",
    "    with open(path + f,'r', encoding='utf8') as infile :\n",
    "        next(infile)\n",
    "        for idx, line in enumerate(infile.readlines()) :\n",
    "            line = line.strip().split(\"\\t\")\n",
    "            if len(line) == 7 :\n",
    "                twitter_data[artist].append(line[6])"
   ]
  },
  {
   "cell_type": "code",
   "execution_count": 5,
   "id": "c934a3e4",
   "metadata": {},
   "outputs": [],
   "source": [
    "path = \"/Users/halledavis/Desktop/twitter/\"\n",
    "os.chdir(path)\n",
    "\n",
    "twitter_data = pd.read_csv(artist_files['cher'],\n",
    "                           sep=\"\\t\",\n",
    "                           quoting=3)\n",
    "\n",
    "twitter_data['artist'] = \"cher\""
   ]
  },
  {
   "cell_type": "code",
   "execution_count": 6,
   "id": "f57e0ff1",
   "metadata": {},
   "outputs": [],
   "source": [
    "twitter_data_2 = pd.read_csv(artist_files['robyn'],\n",
    "                             sep=\"\\t\",\n",
    "                             quoting=3)\n",
    "twitter_data_2['artist'] = \"robyn\"\n",
    "\n",
    "twitter_data = pd.concat([\n",
    "    twitter_data,twitter_data_2])\n",
    "    \n",
    "del(twitter_data_2)"
   ]
  },
  {
   "cell_type": "code",
   "execution_count": 7,
   "id": "37d70801",
   "metadata": {},
   "outputs": [],
   "source": [
    "# Read in the lyrics data\n",
    "\n",
    "path = \"/Users/halledavis/Desktop/lyrics/\"\n",
    "os.chdir(path)\n",
    "\n",
    "file_list = glob.glob(os.path.join(os.getcwd(), \"lilwayne\", \"*.txt\"))\n",
    "\n",
    "lilwaynelyrics = []\n",
    "\n",
    "for file_path in file_list:\n",
    "    with open(file_path) as f_input:\n",
    "        lyrics = (f_input.read())\n",
    "        file_name = file_path.split(\"/\")[-1]\n",
    "        lilwaynelyrics.append(\n",
    "            {\n",
    "                'Artist': \"Lil Wayne\",\n",
    "                'Song': file_name,\n",
    "                'lyrics': lyrics\n",
    "            }\n",
    "        )\n",
    "        \n",
    "lilwaynelyrics = pd.DataFrame(lilwaynelyrics)"
   ]
  },
  {
   "cell_type": "code",
   "execution_count": 8,
   "id": "ef39b340",
   "metadata": {},
   "outputs": [],
   "source": [
    "file_list = glob.glob(os.path.join(os.getcwd(), \"lildicky\", \"*.txt\"))\n",
    "\n",
    "lildickylyrics = []\n",
    "\n",
    "for file_path in file_list:\n",
    "    with open(file_path) as f_input:\n",
    "        lyrics = (f_input.read())\n",
    "        file_name = file_path.split(\"/\")[-1]\n",
    "        lildickylyrics.append(\n",
    "            {\n",
    "                'Artist': \"Lil Dicky\",\n",
    "                'Song': file_name,\n",
    "                'lyrics': lyrics\n",
    "            }\n",
    "        )\n",
    "        \n",
    "lildickylyrics = pd.DataFrame(lildickylyrics)"
   ]
  },
  {
   "cell_type": "code",
   "execution_count": 9,
   "id": "685712a3",
   "metadata": {},
   "outputs": [],
   "source": [
    "lyrics = [lilwaynelyrics, lildickylyrics]\n",
    "lyrics_data = pd.concat(lyrics)"
   ]
  },
  {
   "cell_type": "code",
   "execution_count": 10,
   "id": "af9e7a4b",
   "metadata": {},
   "outputs": [],
   "source": [
    "# Read in the positive and negative words and the\n",
    "# tidytext sentiment. Store these so that the positive\n",
    "# words are associated with a score of +1 and negative words\n",
    "# are associated with a score of -1. You can use a dataframe or a \n",
    "# dictionary for this.\n",
    "\n",
    "path = \"/Users/halledavis/Downloads/\"\n",
    "os.chdir(path)"
   ]
  },
  {
   "cell_type": "code",
   "execution_count": 11,
   "id": "a7f4f42e",
   "metadata": {},
   "outputs": [],
   "source": [
    "positive = pd.read_csv('positive-words.txt', header = None)\n",
    "negative = pd.read_csv('negative-words.txt', header = None)\n",
    "\n",
    "positive['type'] = 1\n",
    "negative['type'] = -1\n",
    "\n",
    "sentiment = pd.concat([positive, negative])"
   ]
  },
  {
   "cell_type": "markdown",
   "id": "6a5f3b12",
   "metadata": {},
   "source": [
    "## Sentiment Analysis on Songs\n",
    "\n",
    "In this section, score the sentiment for all the songs for both artists in your data set. Score the sentiment by manually calculating the sentiment using the combined lexicons provided in this repository. \n",
    "\n",
    "After you have calculated these sentiments, answer the questions at the end of this section.\n"
   ]
  },
  {
   "cell_type": "code",
   "execution_count": 13,
   "id": "b4ac785c",
   "metadata": {},
   "outputs": [],
   "source": [
    "def clean(text):\n",
    "    # convert html escapes like &amp; to characters.\n",
    "    text = html.unescape(text)\n",
    "    # tags like <tab>\n",
    "    text = re.sub(r'<[^<>]*>', ' ', text)\n",
    "    # markdown URLs like [Some text](https://....)\n",
    "    text = re.sub(r'\\[([^\\[\\]]*)\\]\\([^\\(\\)]*\\)', r'\\1', text)\n",
    "    # text or code in brackets like [0]\n",
    "    text = re.sub(r'\\[[^\\[\\]]*\\]', ' ', text)\n",
    "    # standalone sequences of specials, matches &# but not #cool\n",
    "    text = re.sub(r'(?:^|\\s)[&#<>{}\\[\\]+|\\\\:-]{1,}(?:\\s|$)', ' ', text) # standalone sequences of hyphens like --- or ==\n",
    "    text = re.sub(r'(?:^|\\s)[\\-=\\+]{2,}(?:\\s|$)', ' ', text)\n",
    "    # sequences of white spaces\n",
    "    text = re.sub(r'\\s+', ' ', text)\n",
    "    return text.strip()"
   ]
  },
  {
   "cell_type": "code",
   "execution_count": 14,
   "id": "9e05ef75",
   "metadata": {},
   "outputs": [],
   "source": [
    "lyrics_data[\"lyrics\"] = lyrics_data[\"lyrics\"].apply(clean)\n",
    "lilwaynelyrics[\"lyrics\"] = lilwaynelyrics[\"lyrics\"].apply(clean)\n",
    "lildickylyrics[\"lyrics\"] = lildickylyrics[\"lyrics\"].apply(clean)"
   ]
  },
  {
   "cell_type": "code",
   "execution_count": 15,
   "id": "d4423820",
   "metadata": {},
   "outputs": [],
   "source": [
    "pos_score = 1\n",
    "neg_score = -1\n",
    "word_dict = {}\n",
    "\n",
    "for word in positive[0]:\n",
    "    word_dict[word] = pos_score\n",
    "    \n",
    "for word in negative[0]:\n",
    "    word_dict[word] = neg_score"
   ]
  },
  {
   "cell_type": "code",
   "execution_count": 16,
   "id": "664f8d8f",
   "metadata": {},
   "outputs": [],
   "source": [
    "def sentiment_score(text):\n",
    "    sentiment_score = 0\n",
    "    bag_of_words = word_tokenize(text.lower())\n",
    "    for word in bag_of_words:\n",
    "        if word in word_dict:\n",
    "            sentiment_score += word_dict[word]\n",
    "    return (sentiment_score / len(bag_of_words))"
   ]
  },
  {
   "cell_type": "code",
   "execution_count": 22,
   "id": "83755a43",
   "metadata": {},
   "outputs": [],
   "source": [
    "lyrics_data['sentimentscore'] = lyrics_data['lyrics'].apply(sentiment_score)\n",
    "lilwaynelyrics['sentimentscore'] = lilwaynelyrics['lyrics'].apply(sentiment_score)\n",
    "lildickylyrics['sentimentscore'] = lildickylyrics['lyrics'].apply(sentiment_score)"
   ]
  },
  {
   "cell_type": "markdown",
   "id": "53a40ad7",
   "metadata": {},
   "source": [
    "### Questions\n",
    "\n",
    "Q: Overall, which artist has the higher average sentiment per song? \n",
    "\n",
    "A: Lil Wayne did."
   ]
  },
  {
   "cell_type": "code",
   "execution_count": 23,
   "id": "a51ffd64",
   "metadata": {
    "scrolled": true
   },
   "outputs": [
    {
     "data": {
      "text/html": [
       "<div>\n",
       "<style scoped>\n",
       "    .dataframe tbody tr th:only-of-type {\n",
       "        vertical-align: middle;\n",
       "    }\n",
       "\n",
       "    .dataframe tbody tr th {\n",
       "        vertical-align: top;\n",
       "    }\n",
       "\n",
       "    .dataframe thead th {\n",
       "        text-align: right;\n",
       "    }\n",
       "</style>\n",
       "<table border=\"1\" class=\"dataframe\">\n",
       "  <thead>\n",
       "    <tr style=\"text-align: right;\">\n",
       "      <th></th>\n",
       "      <th>sentimentscore</th>\n",
       "    </tr>\n",
       "    <tr>\n",
       "      <th>Artist</th>\n",
       "      <th></th>\n",
       "    </tr>\n",
       "  </thead>\n",
       "  <tbody>\n",
       "    <tr>\n",
       "      <th>Lil Dicky</th>\n",
       "      <td>-0.017687</td>\n",
       "    </tr>\n",
       "    <tr>\n",
       "      <th>Lil Wayne</th>\n",
       "      <td>-0.003376</td>\n",
       "    </tr>\n",
       "  </tbody>\n",
       "</table>\n",
       "</div>"
      ],
      "text/plain": [
       "           sentimentscore\n",
       "Artist                   \n",
       "Lil Dicky       -0.017687\n",
       "Lil Wayne       -0.003376"
      ]
     },
     "execution_count": 23,
     "metadata": {},
     "output_type": "execute_result"
    }
   ],
   "source": [
    "lyrics_data.groupby('Artist').agg({'sentimentscore':'mean'})"
   ]
  },
  {
   "cell_type": "markdown",
   "id": "accb3c19",
   "metadata": {},
   "source": [
    "Q: For your first artist, what are the three songs that have the highest and lowest sentiments? Print the lyrics of those songs to the screen. What do you think is driving the sentiment score? \n",
    "\n",
    "A: The three most negative songs are Fuck the World (which has negative words like thugging, fuck, lying, struggle, scream, curse), Enemy Turf (which has negative words like dying, enemy, fuck, bust, worried), and Hit u Up (which has negative words like die, fuck, glock). The three most positive songs are Tha Block is Hot, Intro Tha Block is Hot, and Drop it Like its Hot. The word hot is on the positive word list and that word is obviously prevalent in all three of these songs.\n",
    "\n"
   ]
  },
  {
   "cell_type": "code",
   "execution_count": 25,
   "id": "316dbef8",
   "metadata": {},
   "outputs": [
    {
     "data": {
      "text/html": [
       "<div>\n",
       "<style scoped>\n",
       "    .dataframe tbody tr th:only-of-type {\n",
       "        vertical-align: middle;\n",
       "    }\n",
       "\n",
       "    .dataframe tbody tr th {\n",
       "        vertical-align: top;\n",
       "    }\n",
       "\n",
       "    .dataframe thead th {\n",
       "        text-align: right;\n",
       "    }\n",
       "</style>\n",
       "<table border=\"1\" class=\"dataframe\">\n",
       "  <thead>\n",
       "    <tr style=\"text-align: right;\">\n",
       "      <th></th>\n",
       "      <th>Artist</th>\n",
       "      <th>Song</th>\n",
       "      <th>lyrics</th>\n",
       "      <th>sentimentscore</th>\n",
       "    </tr>\n",
       "  </thead>\n",
       "  <tbody>\n",
       "    <tr>\n",
       "      <th>1</th>\n",
       "      <td>Lil Wayne</td>\n",
       "      <td>lyricslilwaynefucktheworld.txt</td>\n",
       "      <td>fuck the world Look, look, look A young nigga ...</td>\n",
       "      <td>-0.046809</td>\n",
       "    </tr>\n",
       "    <tr>\n",
       "      <th>8</th>\n",
       "      <td>Lil Wayne</td>\n",
       "      <td>lyricslilwayneenemyturf.txt</td>\n",
       "      <td>enemy turf When I say I don't give a fuck I me...</td>\n",
       "      <td>-0.032258</td>\n",
       "    </tr>\n",
       "    <tr>\n",
       "      <th>11</th>\n",
       "      <td>Lil Wayne</td>\n",
       "      <td>lyricslilwaynehituup.txt</td>\n",
       "      <td>hit u up Come on, come on Come on, come on, co...</td>\n",
       "      <td>-0.029151</td>\n",
       "    </tr>\n",
       "  </tbody>\n",
       "</table>\n",
       "</div>"
      ],
      "text/plain": [
       "       Artist                            Song  \\\n",
       "1   Lil Wayne  lyricslilwaynefucktheworld.txt   \n",
       "8   Lil Wayne     lyricslilwayneenemyturf.txt   \n",
       "11  Lil Wayne        lyricslilwaynehituup.txt   \n",
       "\n",
       "                                               lyrics  sentimentscore  \n",
       "1   fuck the world Look, look, look A young nigga ...       -0.046809  \n",
       "8   enemy turf When I say I don't give a fuck I me...       -0.032258  \n",
       "11  hit u up Come on, come on Come on, come on, co...       -0.029151  "
      ]
     },
     "execution_count": 25,
     "metadata": {},
     "output_type": "execute_result"
    }
   ],
   "source": [
    "lilwaynelyrics.sort_values(by=['sentimentscore']).head(3)"
   ]
  },
  {
   "cell_type": "code",
   "execution_count": 35,
   "id": "b174e212",
   "metadata": {
    "scrolled": true
   },
   "outputs": [
    {
     "name": "stdout",
     "output_type": "stream",
     "text": [
      "fuck the world Look, look, look A young nigga screaming fuck the world and let 'em die Behind tints, tryna duck the world and smoking ride Got my bandanna 'round my head and pants to my feet And got my eyes fire red and Glock on my seat I'm tryna stay under intoxication 'Cause I lost my father, and got a daughter, plus I'm on probation I'm drinking liquor like it's water, getting pissy drunk And staying away from them little broads They're tryna get me stomped keep a chopper in the trunk And my heat on my waistline Ducking the law, 'cause I ain't tryna do no Fed time Sometimes I just wish I could be away But I gotta take care of Ginae and keep Ms. Cita straight So I just maintain the struggle and I keep trying But how can I when my closest people keep dying I ain't lying that the law tryna bust my clique But I scream fuck the world man, I'm too young for this Look, I don't curse, but in this verse man fuck the world I lost my father to a gun and made a little girl And I'm still thugging with my niggas tryna keep it real And I'm still doing for my mother and I'm paying bills Look, I don't curse, but in this verse man fuck the world I lost my father to a gun and made a little girl And I'm still thugging with my niggas tryna keep it real And I'm still doing for my mother and I'm paying bills Give me a cigarette, my nerves bad The Feds said they heard that I know where them birds at And my old lady say she saw me with another brizzah And some of the boys shot up my block so now I gotta kill 'em And teachers keep telling my momma that I'm getting worse And now she tripping talking 'bout I need to be in church And my little girl whole family tryna lie in court Tryna put me, a child, on child support And whole family deny me of what I do 'cause I'm a thug and stuff Plus, my niggas keep falling to them drugs and stuff That dope got these niggas melting away Man they got clowns right around me, killing they self everyday We keep fighting but they're so strong I know it's hard but don't give up baby hold on Just keep ya fate, count blessings, and wodie keep ya trust And grab ya nuts and let 'em know that we don't give a fuck We don't give a fuck Look, I don't curse, but in this verse man fuck the world I lost my father to a gun and made a little girl And I'm still thugging with my niggas tryna keep it real And I'm still doing for my mother and I'm paying bills Look, I don't curse, but in this verse man fuck the world I lost my father to a gun and made a little girl And I'm still thugging with my niggas tryna keep it real And I'm still doing for my mother and I'm paying bills I mean the world just ain't gon' never change So I just keep my head up and my nuts, let 'em hang Dawg I swear it's very rough out here for the youngsters Like everybody against me 'cause I'm a young thug Dear Rabbit, why they have to kill Rabbit? But I'mma keep you alive, nigga, I'm Lil Rabbit That's why this little nigga be bugging like it's no tomorrow I only can depend on macita and C-M-R I try my best to make it through the night and live today But I'm upset so I'm steady wiping tears away And police got me under surveillance when and wherever Wrecking their brains, tryna figure where I'm getting that cheddar I tell my family just leave me a-damn-lone I can handle all of my business, this little man grown But I try to forget about it and just stand strong But if everything was cool I wouldn't write this damn song Fuck the world Look, I don't curse, but in this verse man fuck the world I lost my father to a gun and made a little girl And I'm still thugging with my niggas tryna keep it real And I'm still doing for my mother and I'm paying bills Look, I don't curse, but in this verse man fuck the world I lost my father to a gun and made a little girl And I'm still thugging with my niggas tryna keep it real And I'm still doing for my mother and I'm paying bills Look, I don't curse, but in this verse man fuck the world I lost my father to a gun and made a little girl And I'm still thugging with my niggas tryna keep it real And I'm still doing for my mother and I'm paying bills Look, I don't curse, but in this verse man fuck the world\n"
     ]
    }
   ],
   "source": [
    "print(lilwaynelyrics.loc[1]['lyrics'])"
   ]
  },
  {
   "cell_type": "code",
   "execution_count": 36,
   "id": "715b4927",
   "metadata": {
    "scrolled": true
   },
   "outputs": [
    {
     "name": "stdout",
     "output_type": "stream",
     "text": [
      "enemy turf When I say I don't give a fuck I mean that yeah Niggas brains is getting bust I done seen that yeah If a shipment was coming in I need a haul of that wodie I need a sixty-forty nigga And no charging that wodie You done heard about Michael Jackson And shiggidy shit But you ain't never heard about me When I'm flissing a bitch Niggas doors getting knocked Clean off of the hinge See that red dot coming for Me and my girlfriend? 'Cause I wants mine I needs mine And I'm about to get mine But these dying Look little daddy You ain't got to worry about none of these other niggas You needs to be worried about when Juvi coming to get ya Look, I make a phone call to the big dog Y'all bitches better handle y'all business before I hit y'all Even though a nigga rich and I rock ice I still bust a nigga head on the block aight? It's enemy turf that I'm on So I'm 'a play it how it go Cock the hollow points And tote my black calico My little brother Weezy It's enemy turf that I'm on So I'm 'a play it how it go Cock the hollow points And tote my black calico My little brother Weezy My big brother Juvi Both hit the blocks Strapped up with the Uzis What, what, la Gun for gun Eye for eye Better move your wife and son 'Cause I ride or die Cash Money Hot Boy, bless me when I'm gone But until then, load up the chrome, 'cause it's on I been bout it Put a boot up in my lip and put my thirty up in a clip I drop the top and then I dip I hit his block and make 'em flip And I be full of that trash I be the first one to jump out the jag bust at 'em fast Watch the bullets chop off the head And make 'em fall in the grass One move they all die Lil Weezy a small fry, but gorilla when it's war time Y'all better learn When this nigga shoot it'll be all hell Well then let 'em burn Hold 'em for ransom, hear me smart boy Seven churn and I be damn if I let 'em go If I don't get my dough Then hell will be all blowing 'Til I R.I.P., C.M.B. I be I put it down for all my peeps Nigga, I'm H.B. for real It's enemy turf that I'm on So I'm 'a play it how it go Cock the hollow points And tote my black calico My little brother Weezy It's enemy turf that I'm on So I'm 'a play it how it go Cock the hollow points And tote my black calico My little brother Weezy All I know is the streets And how to strap up When it's time shoot it Cock your heaters Tie up your bags It's time to do it Blaze the blunt Shut off the lights And cut down the music Roll down the windows Turn the corner And let loose with the brr If ya don't know now Then ya never will learn You can play with Lil Wayne And your block get burned You must love to go swimming 'Cause the water gets deeper See I bust you wide open And take your daughter with me Here come the beat boy Shoot out the street lights Time to bring on the heat boy If you ain't really with it Then you better get back I open your chest And make it look just like a wet cat This is a death trap I'm a guerrilla and I mean it Leave your head still in a beaning Lying on the cement Calico-steaming Red-dot beaming, dressed up suspicious Play with Lil Weezy, you'll be dinner for the fishes It's enemy turf that I'm on So I'm 'a play it how it go Cock the hollow points And tote my black calico My little brother Weezy It's enemy turf that I'm on So I'm 'a play it how it go Cock the hollow points And tote my black calico My little brother Weezy Enemy turf Time to strap up What\n"
     ]
    }
   ],
   "source": [
    "print(lilwaynelyrics.loc[8]['lyrics'])"
   ]
  },
  {
   "cell_type": "code",
   "execution_count": 37,
   "id": "9490f619",
   "metadata": {},
   "outputs": [
    {
     "name": "stdout",
     "output_type": "stream",
     "text": [
      "hit u up Come on, come on Come on, come on, come on, come on, come on I roll with a bunch of untamed guerrillas, head busters, and sharks Niggas that's 'bout beefing – letting them Ks spark Knocking-it-off-your-shoulder soldiers – them real niggas Niggas who did time – hard-to-kill niggas How you live, you get it is the way a nigga play it Niggas ain't fighting no more – niggas busting your head Sending you to your grave – it's do or die, cousin Aiming straight for your head, making sure you die, cousin They're dressing in black, prepared for combat Riding four deep strapped with choppers and macks Not giving a fuck, getting your cut, letting it bust You get hit, that's on you, my nigga – you're outta luck You're stuck like chuck – wodie, you're assed-out That's what happen to you trying to be hard, running your mouth Get erased, my nigga (my nigga) Look here: I leave no trace, my nigga (my nigga) No witnesses so can you see my face, my nigga (my nigga) Fled the scene – so you have no case, my nigga case, my nigga Look here: you can play if you wanna get down Get your stupid ass left where you can't be found We done hit you up, lit you up, twist you up (Ooh!) We done chopped you up, popped you up, boxed you up (Ooh!) We done hit you up, lit you up, twist you up (Ooh!) We done popped you up, chopped you up, boxed you up (Ooh!) We done hit you up, lit you up, twist you up (Ooh!) We done popped you up, chopped you up, boxed you up (Ooh!) We done hit you up, lit you up, twist you up (What?) We done chopped you up, popped you up, boxed you up I was wrong for a lot of shit that I'mma take to my grave Continuously whipping niggas like a runaway slave Must was meant for me to be thugging – I stay in some beef Baby and Slim keep telling me, \"Juvenile, stay off them streets.\" I can't help – I draw attention; they be fucking with me I'm hot in the ass and can't get enough of these streets A little nigga in the Rolls screaming, \"Fuck the police!\" Peeling out in front the club, about to duck to the east Now play yourself, you gon' find yourself by yourself In a nice place ducked off with fucked-up health I done been strucked and snuck, but never fucked and stuck My life is four hundred degrees, so I bust 'em up Still sticking to the g-code, Rees, and Bs Quit drinking, but I will smoke some weed indeed All they understand is my project English And if you don't like it, you can kiss my penis We done hit you up, lit you up, twist you up (Ooh!) We done chopped you up, popped you up, boxed you up (Ooh!) We done hit you up, lit you up, twist you up (Ooh!) We done chopped you up, popped you up, boxed you up (Ooh!) We done hit you up, lit you up, twist you up (Ooh!) We done chopped you up, popped you up, boxed you up (Ooh!) We done hit you up, lit you up, twist you up (Ooh!) We done chopped you up, popped you up, boxed you up (Ooh!) I run the streets 'cause I'm real if it's daylight or dark You a killer, nigga? (Eah?) Ain't no fear in my heart I'll go toe to toe with you or take you to war I'll even go K for K with you – now make your choice Better know when I'm in beef that I be creeping, nigga Better know that I'm a snake, and I'mma sneak you, nigga Each time I hit the corner, I be leaving niggas Momma upset – can't even go on and grieving, nigga Nothing change – I'm on TV, I don't play with you niggas Still the same that'll spin broad day on you niggas And empty a hundred out that K Where you're caught hanging is where you're left stanking, you heard me I've been in the game – niggas know what I'm 'bout So many murders under my belt, I done lost count If you wanna be another number, my nigga Go ahead, drop your nuts, and run up, my nigga We done hit you up, lit you up, twist you up (Ooh!) We done chopped you up, popped you up, boxed you up (Ooh!) Now, we done hit you up, lit you up, twist you up (Ooh!) Nigga, we done chopped you up, popped you up, boxed you up (Ooh!) Now, we done hit you up, lit you up, twist you up (Ooh!) And we done chopped you up, popped you up, boxed you up (Ooh!) Look, we done hit you up, lit you up, twist you up (What?) Look, we done chopped you up, popped you up, boxed you up (Ooh!) Hello, world I zip through fast in a yellow-pearl drop Porsche Boxter Young mobster, wild and obnoxious Pop some in your dreadlocks – What? Me not no rookie, boy Glock cooking, boy I'll turn your forehead to a pussy, boy Off the gate, cousin, you niggas gon' make me stalk and spray something Spark or lace something Park the car, get out, walk, and spray something Taught to stay thugging brought up in this shit that we call America And in my hood the laws are scared of us – we are too terrible If I live to be old, it's a miracle 'Cause the way a nigga hating or bitch-plotting, the shit's hysterical That's why I keep me two big guns on blast like a stereo Come to your burial and kill anybody else who care for you Don't blame me, society changed me You haul white, you smash powder all night for the fast dollar Cut off lights, we masked riders The hood trash got us in a position we can't shake With bars we can't break, and due to that you ain't safe, bitch We done hit you up, lit you up, twist you up (Ooh!) Now, we done chopped you up, popped you up, boxed you up (Ooh!) Look, we done hit you up, lit you up, twist you up (Ooh!) Now, we done chopped you up, popped you up, boxed you up, nigga (Ooh!) (Did you see that?) We hit you up, lit you up, twist you up (Ooh!) And we done chopped you up, popped you up, boxed you up (Ooh!) (Did you see that?) We done hit you up, lit you up, twist you up (Ooh!) Now, we done chopped you up, popped you up, boxed you up (Ooh!) Boy, look We done hit you up, lit you up, twist you up (Ooh!) Now, we done chopped you up, popped you up, boxed you up (Ooh!) Look, we done hit you up, lit you up, twist you up (Ooh!) Look, we done chopped you up, popped you up, boxed you up (Ooh!) Nigga – we put holes in you bitch-ass niggas, you heard me We don't barrow nothing, don't fear nothing And ain't nothing you can do 'bout these (Hot! Hot! Hot!) Boy$, nigga Let 'em burn, nigga Let 'em burn, nigga B.Geezy, Lil Wheezy, Juvy, Two Tymer\n"
     ]
    }
   ],
   "source": [
    "print(lilwaynelyrics.loc[11]['lyrics'])"
   ]
  },
  {
   "cell_type": "code",
   "execution_count": 26,
   "id": "f54af4cb",
   "metadata": {
    "scrolled": false
   },
   "outputs": [
    {
     "data": {
      "text/html": [
       "<div>\n",
       "<style scoped>\n",
       "    .dataframe tbody tr th:only-of-type {\n",
       "        vertical-align: middle;\n",
       "    }\n",
       "\n",
       "    .dataframe tbody tr th {\n",
       "        vertical-align: top;\n",
       "    }\n",
       "\n",
       "    .dataframe thead th {\n",
       "        text-align: right;\n",
       "    }\n",
       "</style>\n",
       "<table border=\"1\" class=\"dataframe\">\n",
       "  <thead>\n",
       "    <tr style=\"text-align: right;\">\n",
       "      <th></th>\n",
       "      <th>Artist</th>\n",
       "      <th>Song</th>\n",
       "      <th>lyrics</th>\n",
       "      <th>sentimentscore</th>\n",
       "    </tr>\n",
       "  </thead>\n",
       "  <tbody>\n",
       "    <tr>\n",
       "      <th>18</th>\n",
       "      <td>Lil Wayne</td>\n",
       "      <td>lyricslilwaynethablockishot.txt</td>\n",
       "      <td>tha block is hot Wha wha, wha wha, wha wha, wh...</td>\n",
       "      <td>0.035651</td>\n",
       "    </tr>\n",
       "    <tr>\n",
       "      <th>12</th>\n",
       "      <td>Lil Wayne</td>\n",
       "      <td>lyricslilwayneintrothablockishot.txt</td>\n",
       "      <td>intro tha block is hot Ahh, Hot-Hot Yo! Wassup...</td>\n",
       "      <td>0.050360</td>\n",
       "    </tr>\n",
       "    <tr>\n",
       "      <th>4</th>\n",
       "      <td>Lil Wayne</td>\n",
       "      <td>lyricslilwaynedropitlikeitshot.txt</td>\n",
       "      <td>drop it like its hot Drop, drop, drop, what wh...</td>\n",
       "      <td>0.088687</td>\n",
       "    </tr>\n",
       "  </tbody>\n",
       "</table>\n",
       "</div>"
      ],
      "text/plain": [
       "       Artist                                  Song  \\\n",
       "18  Lil Wayne       lyricslilwaynethablockishot.txt   \n",
       "12  Lil Wayne  lyricslilwayneintrothablockishot.txt   \n",
       "4   Lil Wayne    lyricslilwaynedropitlikeitshot.txt   \n",
       "\n",
       "                                               lyrics  sentimentscore  \n",
       "18  tha block is hot Wha wha, wha wha, wha wha, wh...        0.035651  \n",
       "12  intro tha block is hot Ahh, Hot-Hot Yo! Wassup...        0.050360  \n",
       "4   drop it like its hot Drop, drop, drop, what wh...        0.088687  "
      ]
     },
     "execution_count": 26,
     "metadata": {},
     "output_type": "execute_result"
    }
   ],
   "source": [
    "lilwaynelyrics.sort_values(by=['sentimentscore']).tail(3)"
   ]
  },
  {
   "cell_type": "code",
   "execution_count": 38,
   "id": "d1315460",
   "metadata": {
    "scrolled": false
   },
   "outputs": [
    {
     "name": "stdout",
     "output_type": "stream",
     "text": [
      "tha block is hot Wha wha, wha wha, wha wha, wha wha, what Straight off the block, gold nuts in my hand, trusting no man Got my Glock cocked, running this thing, ya understand We be steaming, blazing, nines, pumps and Ks and Hollygrove 17th the hood where I was raised in (what, what, what) Niggas busting heads and, running ducking Feds and (what) Rocks under their tongues and, kis under their beds and Hood full of real niggas, twenty-four seven hustlers (Ugh) Until we shove a barrel down ya pipe suckers Ain't no love for no buster, no fear for no coward No respect for no slut, and no money without power We keeping niggas hotter, ugh, nasty and sour Pile up in the Eddie Bauer and \"blocka\" at every hour Some niggas like that powder, folding up with that drain Some like that weed or that dope and some shoot it up in their veins (oh) From the home of that 'caine, jacking and cracking brains Broadcasting live from Tha Block, it's Lil' Wayne (who it is?) Nigga, you got that yayo? (Well cook something, nigga) Nigga, you let them Ks go? (Well bust something, nigga) Are you ducking that law? (You better run from 'em, nigga) Are you playing with that raw? (Well won't you front something, nigga) Tha Block is hot, Tha Block is hot, ha, ha-ha Tha Block is hot, Tha Block is hot, ha, ha-ha Tha Block is hot, Tha Block is hot, ha, ha-ha Tha Block is hot, Tha Block is hot, ha See where I'm from we keep our guns out Dodging cops and burning blocks so we be thugged out It's time to floss, bring the big bodies on dubs out And they got quarters, halves and birds in that one house (I got it, I got it) It's all good in the hood hustling like it's legal Soon as you get it, hot (skrrt!) there go them people Break up the block and hit the cut by the corner store End up in Ms. Taylor backyard, be quiet, she on the porch This everyday, at the spot where niggas murder off top, boy It's the spot where they got fire girls and hot boys We don't know what be going 'cause we so blunted from trees And we'll be 'round ya all day 'til we \"400 Degreez\" And you see when it get dark, nobody be on the porch They got a nigga got on a scarf, he flipping out off that raw Betta stay in yo' car, and make sure your door is locked 'Cause this ain't nothing proper, 'cause Tha Block is hot Nigga, you got that yayo? (Well cook something, nigga) Nigga, you let them Ks go? (Well bust something, nigga) Are you ducking that law? (You better run from 'em, nigga) Are you playing with that raw? (Well won't you front something, nigga) Tha Block is hot, Tha Block is hot, ha, ha-ha Tha Block is hot, Tha Block is hot, ha, ha-ha Tha Block is hot, Tha Block is hot, ha, ha-ha Tha Block is hot, Tha Block is hot, ha See watch your step on my set, gotta walk like, talk like We done shot out all the street lights, so you can't see who we be like And we like, to dress in all black up in my residence Ain't got on no suits, 'cause we ain't trying to be presidents And ever since the coke drought, niggas been on a trip y'all So you better watch what y'all playing with 'cause a nigga will try to flip y'all They hit y'all, jam you up and put a gun to your jug Huh, catch your breath, now shh, catch a slug It's street smarts, plenty niggas that keep sparks When the heat starts, ain't nobody got sweethearts Darling we sharks, you could come try to cheap talk We cut your week short, them little boys don't give a damn Go all out for that cake, won't hesitate to kill a man Run in his house and kidnap the nigga, him and his fam— Tie em up, put em in the vans then put a gat in his jaws One move blow his cactuses off Nigga, you got that yayo? (Well cook something, nigga) Nigga, you let them Ks go? (Well bust something, nigga) Are you ducking that law? (You better run from 'em, nigga) Are you playing with that raw? (Well won't you front something, nigga) Tha Block is hot, Tha Block is hot, ha, ha-ha Tha Block is hot, Tha Block is hot, ha, ha-ha Tha Block is hot, Tha Block is hot, ha, ha-ha Tha Block is hot, Tha Block is hot, ha Whot! Some people call me 'cause Tha Block is hot Shk-a-blaow! Bust ya guns 'cause Tha Block is hot Nigga ch-shh, cook it up, 'cause Tha Block is hot Say look daddy, just hook it up, 'cause Tha Block is hot Nigga whot! Some people call me 'cause Tha Block is hot Shk-a-blaow! Bust ya guns 'cause Tha Block is hot Nigga ch-shh, cook it up, 'cause Tha Block is hot Say look daddy, just hook it up, 'cause Tha Block is hot Nigga, my block hot, nigga, my block burn My block on fire, nigga, what about yours? Nigga, my block hot, nigga, my block burn My block on fire, nigga, what about yours? Tha Block is hot, ha ha ha ha\n"
     ]
    }
   ],
   "source": [
    "print(lilwaynelyrics.loc[18]['lyrics'])"
   ]
  },
  {
   "cell_type": "code",
   "execution_count": 40,
   "id": "875f1188",
   "metadata": {},
   "outputs": [
    {
     "name": "stdout",
     "output_type": "stream",
     "text": [
      "intro tha block is hot Ahh, Hot-Hot Yo! Wassup?! What it be like, Fresh? What's happenin'? It's all gravy, baby It's gorgeous And Tha Block Is Hot; what's up, nigga? Aww man, it's magnificent, magnificent Look, nigga, my block so hot when my hoes walk, them diamonds poppin' out they toenail, woadie Bling-bling, bling-bling But it's all gravy Ya heard me? The block is full of lava, nigga (Ha) Got them po-po's pullin' up actin' crazy, nigga, what's happenin'? Tha Block Is Hot, like a barbeque at Satan's crib (Off top, I'm loving that) Tha Block Is Hot, like the Delgado Clinic, ya' heard me This lil' nigga Wayne is so motherfuckin' on fire (Wayne is gorge-rific!) A hose pipe couldn't put this nigga out Man, Baby, have a heart, have a heart This lil' nigga here is greasy (Have a heart) He cheesy (Have a heart) This lil 4 foot millionaire is on fire, woadie Aww man, that's wonderful And he know he representin' with the motherfuckin' Big Tymers B. Geezy, Turk, Juvey, come to lay it down, nigga (Who else?) You still laying down hot ass tracks I gotta give you the motherfuckin' \"Hot Beat Of The Year Award\" CHING!-POW-WHOA-ZIP-CUH-SHAZAM (Ya heard me) I love that, I love that, I can love that truly beautiful, boy Now check it out, and it's all gravy (bring it on, bring it on) This lil nigga here is hotter than a motherfuckin' torch at the Mardi Gras season (Ha!) Weezy, lay it out like a carpet, lay it out (Do what ya' do, boy) Lay it out, lay it out (Do what ya' do, boy) lay it out I'm lovin' that, Fresh, you laid that motherfucker Fuck 2000! We going all the way to 3000! How you loving that Playboy?! (Whoadie!) Whooooadieee!\n"
     ]
    }
   ],
   "source": [
    "print(lilwaynelyrics.loc[12]['lyrics'])"
   ]
  },
  {
   "cell_type": "code",
   "execution_count": 39,
   "id": "31d2d078",
   "metadata": {
    "scrolled": true
   },
   "outputs": [
    {
     "name": "stdout",
     "output_type": "stream",
     "text": [
      "drop it like its hot Drop, drop, drop, what what what After you back it up then stop What What, what, drop it like it's hot After you back it up and stop What, what What, drop it like it's hot Now drop it like it's hot, drop drop it like it's Hot Drop it like it's hot, drop drop it like it's hot Make 'em drop it Like it's hot, drop drop it like it's hot Drop it like it's hot, drop drop it Like it's hot Hehe, listen You know me girl I'm a Cash Money millionaire, look at my Rolie (Rolex) girl Drop to your knees toss your hair ahah slow me girls Now hit it strong, won't be long, now catch it slowly girl No he didn't say that, yes I did girl I don't use rubbers, and I don't plan no kids girl I don't want your number, I want your draws and ya skins girl Then after that, you can get it how you live girl That's on the real girl, I'm a pimp girl Get it twisted, I'll slam you like Shawn Kemp girl I'm the one to get it hot like a lighter girl I just slap you a couple of times, never fight it girl That's 'cause I likes it girl And let me tell you something girl, I am a player girl So don't you try to play me 'cause I never save a girl Do me a favor girl, and wet the spot girl And after you back it up, drop it like it's hot girl Now after you back it up then stop What, what, what drop it like it's hot Now after you back it up then stop What, what, what, drop it like it's hot Make 'em drop it like it's hot, drop drop it like it's hot Drop it like it's hot, drop drop it like it's hot Make 'em drop it like it's hot, drop drop it like it's hot Drop it like it's hot, drop drop it like it's hot First I need you to bend both knees Wobble that ass right, then pop that pussy The left one time, the right two times (whoa) Show a nigga something, put it on a nigga mind, come on, come on Now twerk it bitch; ain't no need to hold it in, what you're working with You want a Hot Boy, hear me, work it bitch Then break a nigga off, let me hurt you bitch, let me hurt you bitch I'm on fire yeah, I'm nasty and I'mma make you holler yeah Girl think I'm playing, I'mma break ya down I'm 'a show you how we do it on VL Uptown I wanna hear you make them \"ooh, ooh\" B.G. sounds I wanna hear you say boy, aw you laid that down Aw you laid that down I'm hot yeah, people say I'm off the block But I won't stop 'til you drop it likes it's hot Now after you back it up then stop What, what, what drop it like it's hot Now after you back it up then stop What, what, what, drop it like it's hot Make 'em drop it like it's hot, drop drop it like it's hot Drop it like it's hot, drop drop it like it's hot Make 'em drop it like it's hot, drop drop it like it's hot Drop it like it's hot, drop drop it like it's hot I'm a rider boy, the hottest boy, respect me 'Cause I'm on fire boy, on fire boy Got them trees, holler boy, holler boy 'Bout my cheese, them dollars boy, dollars boy I'm a seventeen survivor boy, with choppers boy I got guns that go block a boy, block a boy Ya'll running with a monster boy, Weezy Wayne, Corleone And I'm a mobster boy, get it right I get my ball on like soccer boy I keep it right I ain't gon' thaw it off I'm a Tymer Boy Go up in flames block burner that's my motto boy It ain't a game, I cock that put something inside a boy I'm a pimp, got a wife that'll holler boy Catch her at the house stepping out the shower boy (Shh) hehehehehe, got a lot of boys Claim to be soldiers but lies boy And if I catch 'em I'mma bat 'em and make 'em retire boy Put a hump in your back and bend your rump Hey sexy little mama we can do the hump And you can hurt me hurt me, sex me sex me (what) And after he finished, next me next me Work it jerk it pull it hold it grab it (whoa) I need it eat it beat it, silly rabbit (ooo) Woo hah stuck ya in the ass (ooo) Got this thang up in ya like a snake in the grass (sss) I know you wish you could go home (go home) To a nigga with a dick like a python (python) Stay up in ya like a off-the-hook telephone (telephone) Got ya walking 'round with nothing but a fucking thong (what?!) Take the switches on these bitches 'cause I'm so wrong So wrong, so wrong, so wrong Drop (what) so wrong, listen, listen, listen Now after you back it up then stop What, what, what drop it like it's hot Now after you back it up then stop What, what, what, drop it like it's hot Make 'em drop it like it's hot, drop drop it like it's hot Drop it like it's hot, drop drop it like it's hot Make 'em drop it like it's hot, drop drop it like it's hot Drop it like it's hot, drop drop it like it's hot Tell 'em after you back it up then stop What, what, what drop it like it's hot We tell 'em after you back it up then stop What, what, what, drop it like it's hot We make 'em drop it like it's hot, drop drop it like it's hot Drop it like it's hot, drop drop it like it's hot Make 'em drop it like it's hot, drop drop it like it's hot Drop it like it's hot, drop drop it like it's hot They go wobblety wobblety, wa a wobblety wobblety Wa a wobblety wobblety Drop drop it like it's hot Make 'em wobblety wobblety, wa a wobblety Wobblety Wa a wobblety wobblety, wa a drop drop it like it's hot Now after You back it up then stop Wha wha wha, drop it like it's hot They gotta Wobblety wobblety wa a wobblety wobblety Wa a wobblety wobblety, drop drop it Like it's hot Tell 'em after you back it up then stop Then wha, wha, wha Drop it like it's hot Make 'em after you back it up then stop Then wha, wha Wha, drop it like it's hot Drop it like it's hot drop drop it like it's hot Drop em like it's hot, drop it like it's hot Drop it like it's hot drop drop It like it's hot\n"
     ]
    }
   ],
   "source": [
    "print(lilwaynelyrics.loc[4]['lyrics'])"
   ]
  },
  {
   "cell_type": "markdown",
   "id": "14d74f2e",
   "metadata": {},
   "source": [
    "Q: For your second artist, what are the three songs that have the highest and lowest sentiments? Print the lyrics of those songs to the screen. What do you think is driving the sentiment score? \n",
    "\n",
    "A: The three most negative songs are Grimy as a Gooch (which has words like afraid, fuck, fear, pissin, shittin, sick, bitches), How Can I Become a Bawlaa (which has words like steal, shit, bitches, homicidal), and Too High (which has words like fucking, disgusting, deranged, and pathetic). The three most positive songs are Sky Hooks, The Cypher, and Sports (which has words like better, superstar, love, good)."
   ]
  },
  {
   "cell_type": "code",
   "execution_count": 27,
   "id": "3b54e0f0",
   "metadata": {
    "scrolled": true
   },
   "outputs": [
    {
     "data": {
      "text/html": [
       "<div>\n",
       "<style scoped>\n",
       "    .dataframe tbody tr th:only-of-type {\n",
       "        vertical-align: middle;\n",
       "    }\n",
       "\n",
       "    .dataframe tbody tr th {\n",
       "        vertical-align: top;\n",
       "    }\n",
       "\n",
       "    .dataframe thead th {\n",
       "        text-align: right;\n",
       "    }\n",
       "</style>\n",
       "<table border=\"1\" class=\"dataframe\">\n",
       "  <thead>\n",
       "    <tr style=\"text-align: right;\">\n",
       "      <th></th>\n",
       "      <th>Artist</th>\n",
       "      <th>Song</th>\n",
       "      <th>lyrics</th>\n",
       "      <th>sentimentscore</th>\n",
       "    </tr>\n",
       "  </thead>\n",
       "  <tbody>\n",
       "    <tr>\n",
       "      <th>11</th>\n",
       "      <td>Lil Dicky</td>\n",
       "      <td>lyricslildickygrimyasagooch.txt</td>\n",
       "      <td>grimy as a gooch Iont fuck around I been getti...</td>\n",
       "      <td>-0.052202</td>\n",
       "    </tr>\n",
       "    <tr>\n",
       "      <th>13</th>\n",
       "      <td>Lil Dicky</td>\n",
       "      <td>lyricslildickyhowcanibecomeabawlaa.txt</td>\n",
       "      <td>how can i become a bawlaa Ridin' round smoking...</td>\n",
       "      <td>-0.047742</td>\n",
       "    </tr>\n",
       "    <tr>\n",
       "      <th>12</th>\n",
       "      <td>Lil Dicky</td>\n",
       "      <td>lyricslildickytoohigh.txt</td>\n",
       "      <td>too high Wassup, wassup y'all L-D aka Young Di...</td>\n",
       "      <td>-0.041667</td>\n",
       "    </tr>\n",
       "  </tbody>\n",
       "</table>\n",
       "</div>"
      ],
      "text/plain": [
       "       Artist                                    Song  \\\n",
       "11  Lil Dicky         lyricslildickygrimyasagooch.txt   \n",
       "13  Lil Dicky  lyricslildickyhowcanibecomeabawlaa.txt   \n",
       "12  Lil Dicky               lyricslildickytoohigh.txt   \n",
       "\n",
       "                                               lyrics  sentimentscore  \n",
       "11  grimy as a gooch Iont fuck around I been getti...       -0.052202  \n",
       "13  how can i become a bawlaa Ridin' round smoking...       -0.047742  \n",
       "12  too high Wassup, wassup y'all L-D aka Young Di...       -0.041667  "
      ]
     },
     "execution_count": 27,
     "metadata": {},
     "output_type": "execute_result"
    }
   ],
   "source": [
    "lildickylyrics.sort_values(by=['sentimentscore']).head(3)"
   ]
  },
  {
   "cell_type": "code",
   "execution_count": 41,
   "id": "69788fea",
   "metadata": {},
   "outputs": [
    {
     "name": "stdout",
     "output_type": "stream",
     "text": [
      "grimy as a gooch Iont fuck around I been getting down Not afraid to eat some triscuits up off the ground 5 second rule? I'm on that 5 year A lotta guys fear what I got in my ears (wax) If I ain't pissin then you know I'm shittin bricks Do it sick, when I finish homie I ain't washin shit Shaved dick, shave with, same shit, face get Bitches sittin on ma pillows and they butt naked Lickin grease off of that pizza And these mafuckas prolly want a paper towel Errybody know that I rape toenails When I pick, then I flick em on the straight up ground now Ain't shit to a mafuckan balla Mo grit than a mafuckan dolla Come back from ballin, you gotta smell sack Yea it's that appalling And Ion't ever wash ma feet When I'm in the shower, they be hard to reach When I'm getting down, goin out on the weekend I'm asleep before I brush my teeth I'm a goddamn G tho Mo grime than Ed Reed's pee hole Mo grime than Ronaldhino These other rappers can't deny it Cause I don't even act like a thug But I'm cold enough I ain't moving crack, holdin guns But there's more than one dimension to a balla You can find ya boy around the way Being scummy and fucking grubby you know I'm tryna say That I'm grimy as a gooch Grimy grimy as a gooch (swag) Grimy as a gooch Grimy grimy as a gooch (swag) It take a slimy muthafucka to be grimy as a grundle So you in trouble, if you attempt to try to be as gutter as the kid Eating wings Beating off Dick stings from the muthufuckan hot sauce (swagga) Came nuts... no tp Lazy so I rub it on the damn sheets Ya man D on that reggie evans shit Boogie pickin, boogie flickin, hella belly button lint Fuck a bitch, and I'm wetter than a muthafuckin swish Yeah I'm sweating more than CC bases loaded, bottom 6 I'm eating mixed nuts with my mouth wide open At bar a bar where them house flies float Iont give a fuck if it flush if I must urinate Not a place up in the house I wouldn't go I sink piss, and I sniff clothes Nastier than Kimbo And I lick snow When it's yellow And I sleep at the hotel on That old blanket that yo mamma used to never let you touch I just don't give a fuck, I'm nasty like the nut of johnny kruk I do the dutch oven to maself Fuckin with the way it smells So if someone sicker well then tell me Cause I don't even act like a thug But I'm cold enough I ain't moving crack, holdin guns But there's more than one dimension to a balla You can find ya boy around the way Being scummy and fucking grubby you know I'm tryna say That I'm grimy as a gooch Grimy grimy as a gooch (swag) Grimy as a gooch Grimy grimy as a gooch (swag) It take a slimy muthafucka to be grimy as a grundle So you in trouble, if you attempt to try to be as gutter as the kid\n"
     ]
    }
   ],
   "source": [
    "print(lildickylyrics.loc[11]['lyrics'])"
   ]
  },
  {
   "cell_type": "code",
   "execution_count": 42,
   "id": "0140d297",
   "metadata": {
    "scrolled": true
   },
   "outputs": [
    {
     "name": "stdout",
     "output_type": "stream",
     "text": [
      "how can i become a bawlaa Ridin' round smoking weed with ma foreign bitch Ridin' round smoking weed with ma foreign bitch Ma window down, I'm riding to ma new shit (wish dat was me) Got ma new bitch, got ma, got ma new bitch (this dude a g!) Ion't camp off with no j's they sell them hoes for free (what the fuck that mean?) Never payin for no pussy, fuck them hoes for free That's a fucking bawlaa How can I become a bawlaa? Mirror mirror on the wall How can dicky learn to ball I wish I was TIP and I could spit some shit with southern drawls I wish I could flip a brick and spit dat shit like Ricky Ross Holla at broads, at the mall Spit about a mafuckan bitch up in da wip And getting lit up in the backseat Talkin shit about a dinner with an athlete Fuck that, can't rap like the rest of these mafuckas Without all ma writtens being fact free Do y'all know how bad I wish I could But y'all would laugh if I spit hood So now ya man is making jams about some random Shit, when dudes is rappin bout they fuckin weaponry Homicidal tendencies The only dough that I can boast about is seeded sesame I'm jealous B. Cause errbody in the game get to say they kill Errbody in the game get to say steal Errbody in the game sayin words like trill Really wish that I could make that hit Fake that shit Without coming off all gay n shit Cause if I coulda rapped like wayne Then I'd prolly be sayin a lot of the crazy shit like I'm a kill you pussy ass bitches with the chopper Now make that pussy pop off... and this shit would sound proper Ridin' round smoking weed with ma foreign bitch Ridin' round smoking weed with ma foreign bitch Ma window down, I'm riding to ma new shit (wish dat was me) Got ma new bitch, got ma, got ma new bitch (this dude a g!) Ion't camp off with no j's they sell them hoes for free (what the fuck that mean?) Never payin for no pussy, fuck them hoes for free That's a fucking bawlaa How can I become a bawlaa? Here we go Here's a flow Bout some shit I really know I'm a spit it raw and swag it up as if I'm really cold Ma cheerios is honey nut Gear at most a hunned bucks PS I Love You is on the TV dicky tearin up Go up to the bathroom, I have to Ma dentist say I gotta make an effort now it's time to floss Hollat ma dog, and I call the mafucka to me and Get a leash and take him out to walk Roll around the ave I put his shit up in a bag And then a wip pull up, the windows down, this bitch look out and asking How she get back on the high way Told dat bitch to drive straight And take a left on honeycut But stay up in the right lane Cause it come up kinda quick You see what the fuck I'm sayin, Other people get to rap about like Home cooked crack, and like jail n shit And I gotta spit a lotta shit about a muthafuckin Kid up in a crib that's got the central air It's not fair No one cares Real talk I just wanna braid ma hair And rap about whatever bruh Money hoes etcetera Instead of bein clever every measure but I'm never gonn be Ridin' round smoking weed with ma foreign bitch Ridin' round smoking weed with ma foreign bitch Ma window down, I'm riding to ma new shit (wish dat was me) Got ma new bitch, got ma, got ma new bitch (this dude a g!) Ion't camp off with no j's they sell them hoes for free (what the fuck that mean?) Never payin for no pussy, fuck them hoes for free That's a fucking bawlaa How can I become a bawlaa?\n"
     ]
    }
   ],
   "source": [
    "print(lildickylyrics.loc[13]['lyrics'])"
   ]
  },
  {
   "cell_type": "code",
   "execution_count": 43,
   "id": "bc24fc8b",
   "metadata": {},
   "outputs": [
    {
     "name": "stdout",
     "output_type": "stream",
     "text": [
      "too high Wassup, wassup y'all L-D aka Young Dick Had to make a track about smoking weed, man Every rapper got a track about smoking weed so I didn't really have a choice But, I guess I made mine a little bit different is all It's like, it's like, it's like Blowin something sticky word to pre-cum dicks I'm with ma team in this bitch, and we all getting lit I mean the weed hella loud, like a teenage chick And we been smoking for a minute, yeah we blowin on that ganja And now I'm huffin and puffin, I'm choking on that bong And the dope I'm on is bomb I'm smoking that Vietcong Getting real high Watching funny videos of bill nye Tell me that this jam isn't still fly Bill nye theme song Now I'm getting hungry than a muthafucka Put some chicken nuggets in the oven at 400 Whered I put that honey mustard Lookin all around the cupboard for that muthafucka Until I discovered a custard, I covered with butter from last week. How long do them thangs keep? Guess I better ask jeeves Go get ma computer but I'm staring at the damn screen Damn D, you forgetting what ya task be The puff puff pass, gotcha gassed Now ya man is fucked... And I was tryna get a little buzz, so I took a little puff But I think I'm way too high And I ain't wanna come off like a bitch, so I took another hit But I think ma brains too fried And yeah I'm fuckin faded but I hate it I'm praying that I make it Afraid I'm goin to dieeeee I'm too blazed, it's too late To save Dicky from this fuckin place, cause he too high Now I'm freakin out up in this bitch Can't control it and ma homies passin round another spliff So I bolted to the BR Consulted with the mirror Lil Dicky please step up, you pathetic Cause the weed in you beating you Then all a sudden I'm on the toilet beating ma penis blue But I ain't cummin because as I'm imagining fucking something That pretty girl I'm humping Becoming my fuckin cousin, or mother or brother Or some other fucking disgusting person Ma brain is bein strange, cause I'm high as a plane I ain't deranged, I'm just saying it's a violent strain So I go back to the back where they packing up cigars Dipping snacks, kicking back, staring at some Avatars Then I flipped, took a decade and a half to make that shit Yet they couldn't put a second and a half up in that script How the fuck a human being wanna fuck a Blueish green 7' 3'' tail having ass thing Man I'm high as fuckkkk And I was tryna get a little buzz, so I took a little puff But I think I'm way too high And I ain't wanna come off like a bitch, so I took another hit But I think ma brains too fried And yeah I'm fuckin faded but I hate it I'm praying that I make it Afraid I'm goin to dieeeee I'm too blazed, it's too late To save Dicky from this fuckin place, cause he too high Rock hard cock, cause I'm watching katy Perry In her video the whole world's made of candy Damn... I ain't even got no candy So now at the fucking c store Where ya man be torn than a mafucka Peanut eminems or a twix Can't commit, so I count the benefits on ma hands Goddamn now I'm weary of the man yeah the cashier Homeland, Nazir! S-s-s-so damn tweaked I can't even cross the mothafuckin street Gotta wait until that muthafucka's green Now I'm back up at the crib, and I'm laughin at giraffes long necks Gotta shit, but the path to the bathroom is complex Crafted a long text, took about an hour Took a scary shower, now I'm sitting naked on the ground Man I'm fucked up. I'm bout to call ma mom up and tell her what's up. This sucks I'm high as fuck. And I was tryna get a little buzz, so I took a little puff But I think I'm way too high And I ain't wanna come off like a bitch, so I took another hit But I think ma brains too fried And yeah I'm fuckin faded but I hate it I'm praying that I make it Afraid I'm goin to dieeeee I'm too blazed, it's too late To save Dicky from this fuckin place, cause he too high\n"
     ]
    }
   ],
   "source": [
    "print(lildickylyrics.loc[12]['lyrics'])"
   ]
  },
  {
   "cell_type": "code",
   "execution_count": 28,
   "id": "581cdbb4",
   "metadata": {
    "scrolled": true
   },
   "outputs": [
    {
     "data": {
      "text/html": [
       "<div>\n",
       "<style scoped>\n",
       "    .dataframe tbody tr th:only-of-type {\n",
       "        vertical-align: middle;\n",
       "    }\n",
       "\n",
       "    .dataframe tbody tr th {\n",
       "        vertical-align: top;\n",
       "    }\n",
       "\n",
       "    .dataframe thead th {\n",
       "        text-align: right;\n",
       "    }\n",
       "</style>\n",
       "<table border=\"1\" class=\"dataframe\">\n",
       "  <thead>\n",
       "    <tr style=\"text-align: right;\">\n",
       "      <th></th>\n",
       "      <th>Artist</th>\n",
       "      <th>Song</th>\n",
       "      <th>lyrics</th>\n",
       "      <th>sentimentscore</th>\n",
       "    </tr>\n",
       "  </thead>\n",
       "  <tbody>\n",
       "    <tr>\n",
       "      <th>2</th>\n",
       "      <td>Lil Dicky</td>\n",
       "      <td>lyricslildickyskyhooks.txt</td>\n",
       "      <td>sky hooks Alrite, this the type a shit they be...</td>\n",
       "      <td>0.001326</td>\n",
       "    </tr>\n",
       "    <tr>\n",
       "      <th>6</th>\n",
       "      <td>Lil Dicky</td>\n",
       "      <td>lyricslildickythecypher.txt</td>\n",
       "      <td>the cypher See back in highschool I ain't even...</td>\n",
       "      <td>0.010178</td>\n",
       "    </tr>\n",
       "    <tr>\n",
       "      <th>14</th>\n",
       "      <td>Lil Dicky</td>\n",
       "      <td>lyricslildickysports.txt</td>\n",
       "      <td>sports Shots in the club like plaxico I'm in t...</td>\n",
       "      <td>0.034549</td>\n",
       "    </tr>\n",
       "  </tbody>\n",
       "</table>\n",
       "</div>"
      ],
      "text/plain": [
       "       Artist                         Song  \\\n",
       "2   Lil Dicky   lyricslildickyskyhooks.txt   \n",
       "6   Lil Dicky  lyricslildickythecypher.txt   \n",
       "14  Lil Dicky     lyricslildickysports.txt   \n",
       "\n",
       "                                               lyrics  sentimentscore  \n",
       "2   sky hooks Alrite, this the type a shit they be...        0.001326  \n",
       "6   the cypher See back in highschool I ain't even...        0.010178  \n",
       "14  sports Shots in the club like plaxico I'm in t...        0.034549  "
      ]
     },
     "execution_count": 28,
     "metadata": {},
     "output_type": "execute_result"
    }
   ],
   "source": [
    "lildickylyrics.sort_values(by=['sentimentscore']).tail(3)"
   ]
  },
  {
   "cell_type": "code",
   "execution_count": 44,
   "id": "123219fa",
   "metadata": {
    "scrolled": true
   },
   "outputs": [
    {
     "name": "stdout",
     "output_type": "stream",
     "text": [
      "sky hooks Alrite, this the type a shit they be playin at the barbershop I hear these mafuckas saying that it's all for naught But I ain't stopping till I make it to the top y'all They bout to feel stupid talking like a dropped call Cause I'm bout to pop off ma dude, the flow too cashy And this white dude ain't trashy I'm actually college educated, U of R abbreviated, Got inebriated but ma GPA was still amazing On that 3.93 tip, fuck you know about a Eastside G spittin uncontrollable I mean if clever is the measure, then I'm better than Whatever rapper's getting cheddar, I'm the king, and they corretta They some bitches like a kennel got, Dicky spittin devil hot Listenin to ma writtens gotchu whistlin like a kettle potttt I can't stop till I make a dent But this is greatness, take it in Ya namsayin cause Ya'll mafuckas wanna be that kid Wanna lease that wip Wanna be that sick Das a mafucka in this mafucka getting dough Like a mafucka in this mafucka whatchu know bout a Late teen with dreams, debate team to frees To makin these hooks like Kareem, yamean Now ya man deep in the game, but keepin the same Cause I believe, I been keepin the faith, y'nawmsayin? And I spit that shit so asinine Been known to jerk ma dick just to pass the time And I ain't never really care for these fake mafuckas Take mafuckas cake like I wait on these mafuckas Hate when these mafuckas talk the talk I'm at the plate, but you know I'm getting walked or balked or somethin'. And you ain't even in ma league lil shawty I'm a beast you can find me on the beach with a sporty lil young thang Tan lines out the ass, so bad she about to go to Alcatraz I gotta second with the tenth, thinkin alphabet Lil dicky only breaking bad bitches, Malcolm's dad I'm on the beat, know you hearda dat G that'll murder cats Freak raps, ma dude, ma genes in a fertile sack Balls full a ballplayas, Archie Manning I could even let a few in ya family Now I'm laughin cause Ya'll mafuckas wanna be that kid Wanna lease that wip Wanna be that sick Das a mafucka in this mafucka getting dough Like a mafucka in this mafucka whatchu know bout a Late teen with dreams, debate team to frees To makin these hooks like Kareem, yamean Now ya man deep in the game, but keepin the same Cause I believe, I been keepin the faith, y'nawmsayin? And I'm a cake like it ain't nothin. I stay humpin with a cock, tryna date something. I'm straight frontin cause I'm not, hard top on ma mamma lexus I ain't stoppin til lil dicky and Obama texting Dog, I just wanna rap till ya man straight blow up I'm nasty, throw up Ma fam reads torah And I can do this shit on the reg ya dig White mack sound brown like texases I'm really dreamin bout the 22s but I can do it tho I got a jewish flow and I ain't ever had a student loan I think you knew it ho, darling, ya man correct I tell y'all bout ballin, Stan Verret Cause I been known to use a metaphor Only fuckin ten or mores Thought I was an artist but I think I'm likin metta more Atlanta, Japan to Amsterdam Ya boy bout to run up into the stands, ynamsayin baby Ya'll mafuckas wanna be that kid Wanna lease that wip Wanna be that sick Das a mafucka in this mafucka getting dough Like a mafucka in this mafucka fuck you know bout a Late teen with dreams, debate team to frees To makin these hooks like Kareem, yamean Now ya man deep in the game, but keepin the same Cause I believe, I been keepin the faith, y'nawmsayin?\n"
     ]
    }
   ],
   "source": [
    "print(lildickylyrics.loc[2]['lyrics'])"
   ]
  },
  {
   "cell_type": "code",
   "execution_count": 45,
   "id": "7bdbbb7a",
   "metadata": {
    "scrolled": true
   },
   "outputs": [
    {
     "name": "stdout",
     "output_type": "stream",
     "text": [
      "the cypher See back in highschool I ain't even know I could rap So the hits late, but nobody throwin the flag Goin fifth grade with it, Dicky opening snacks Because the kid made different like a joke in Iraq Now check it Never thought I wanna pass the bar But I gotta get fancy car So I got up on the beat, beat on it like Evander sparring partner, smarter art When I master bars These weak bitches gotta leave, dicky dissin' em all To listen to y'all is sorta like a flick in the balls Foreal tho Cause they don't spit it real as D do The kid come first, like his dick a prequel, so look If you really wanna get it, forget it, genetically better Then every pathetic competitor nettin cheddar Get in bed I'll get you wetter than Redick I bet I bend her, get her beggin, etcetera Breath, now ya man on reddit cause I'm rappin the flames I'm hands on, wayne chrebet, when I'm mackin the dames tho The lame bros, better learn to make a single Or ya mayn bout to have these rappers playin some bingoooo... yeah So whatchu talkin bout If this really stupid tell me what the fuck is walk it out If lil dicky ruin rap, they poopin on it's coffin now So if you heard of a jewish rapper you know who they talkin bout Ion't think I need a grammy bro I got two, and they fairly old The family, demanding, ya man be A little wary tho They know dude got a scary flow Just like you do, yea Except they mean it different Prefer ma chicken white das for chicken and da women Confessing that I'm hittin only cause I'm nice at spittin But used to getting used, you dudes Aaliyah's kitchen Hold up, the kid so dumb The drink po up, he can't grow up Ya man gotta thang for donuts The flow nuts, bout to make a jam, I go Russ From Okla getting more bread than cold cuts, whaddup bruh? That's why these hoes wanna get it They been fuckin with the kid, joe paterno assistant I'm stern with the women I'm a a nerd but I'm hittin On these curves like it's griffey in the third with these pitches Iight, the kids aiight, legit polite I wife, nice jews, pipe smoove, cider with ice cubes The white dude's known to be recording it right You jabronies write a stupid chorus lighter than cubes Commercials Y'all worse than them But these lucky bitches, they ain't gotta work again All these chickens in the crib's like a birthed a hen So I be over-cumming definition circumvent, ya dig? Cold spittin, admit it, I'm rippin shit up, like a ticket stub And givin a clinic, these bitches isn't sick enough to get up in it tho You should probly quit it bro Dude's spittin ridiculous with it, particularly when he Be switchin the flowwwww up. Das cash and all More black in me than basketball Next line, LD's talkin vaginal The kid been hittin more walls than a raquet balllll, yeaah! So prepare for my libido It's really fuckin scary, action Bronson in a speedo It's really fuckin scary magic Johnson near mosquitos But I'm nearly fuckin there, these bitches bout to feed me Cheetos Cause Ion't really like the mess Pretty clear right here that the kike the best (that's my n word so chill) Never scared, nor embarrassed, ask ma ex I gotta bone like a freak, Kevin Ware the sex... whoa. Y'all heard about the kid with the jew flow And jew fro, getting mo sugar than glucose The dude so cold youda so swore he from pluto Ma head so big, it's like I'm juicing with pujols But look if you thinkin that this jew so nice Then you so right, you rappers lookin' Bruno's type The dude's so bright, I'm rapping like a sumo fight The knee slappin' unexpected, word to Juno's tike, I'm out.\n"
     ]
    }
   ],
   "source": [
    "print(lildickylyrics.loc[6]['lyrics'])"
   ]
  },
  {
   "cell_type": "code",
   "execution_count": 46,
   "id": "4a00bb11",
   "metadata": {},
   "outputs": [
    {
     "name": "stdout",
     "output_type": "stream",
     "text": [
      "sports Shots in the club like plaxico I'm in the corner, hot like Placido's And dicky fuckin flow nuts pistachio And like Shelvin, I know how to mack a ho I got girls on ma penis Flow is the meanest Not Gilbert, but I'm sellin out arenas Do it all day A peterson Because I'm tryna get paid like Revis did I met a French bitch, big lips, and she got a body Told her put that ass on moi like nnamdi Fight like rocky, white like Roddy Hoosier Daddy all knight like Booby Hot box ride, I can barely see You know I keep ma car melo like Anthony Got bigger blunts than legarrete, smoke outta Taurus Put Mar kief in dat philly like Morris Anybody better better than me, good try I'm the best like Jahvid, but I'm not lion Not even a tyson... no ear biting Ma pockets fat with green, so Rex Ryan I ball for the bucks like Luc Richard Mbah a Moute, But I'm a fuckin superstar And if they ask LD where he wanna live Then I'm a tell 'em where markakis like Nick. I'm tryna get a little Kevin Love And then I see a bad bitch starin up in the club She got an ass so sweet like a cinnabun I bet dat bitch a giant freak like Lincecum And so I go and approach her We kick it like Stover End of the night, I'm a ownher, hova Liquor make a bitch feel raunchy, horny So I'm getting big shots, Chauncey, horry Took her back at ma Eddie House And this fine ass bitch takin off her blouse And then ma D Rose quicka than a bull at the garden Dick like James from the way that it Harden My name ain't Charles, but I pack wood son Ma dick ain't Gretzky, but it's still a good one. She want that juice I ain't talkin bout OJ It's more like Mayo, something like OJ Okay, now her clothes are off And I can see her C pierced like her name was Paul I couldn't care less, went down feelin the flavor It was hairless, something like Villanueva Ma Rod Smart, so He Hate Me When I don't cover him up with a safety But I coordinate that D, so I planned protection Had a Magnum Rolle like louisania tech did Put a condom on ma Ryan Braun Ma Hebrew hammer, then we got it on I was playin with a boobie, Cavalier We even made a couple movies, Shaq O'Neil She had a real big cat, Andres Gallaraga pussy But I hit it hard, Troy Polamalu on that pussy No acting but she had a big O Oscar No PED's little Dicky ballin proper let's go.\n"
     ]
    }
   ],
   "source": [
    "print(lildickylyrics.loc[14]['lyrics'])"
   ]
  },
  {
   "cell_type": "markdown",
   "id": "1f8334f4",
   "metadata": {},
   "source": [
    "Q: Plot the distributions of the sentiment scores for both artists. You can use `seaborn` to plot densities or plot histograms in matplotlib.\n",
    "\n",
    "A: "
   ]
  },
  {
   "cell_type": "code",
   "execution_count": 47,
   "id": "c3a4ccc0",
   "metadata": {},
   "outputs": [
    {
     "data": {
      "text/plain": [
       "Artist\n",
       "Lil Dicky    AxesSubplot(0.125,0.125;0.775x0.755)\n",
       "Lil Wayne    AxesSubplot(0.125,0.125;0.775x0.755)\n",
       "Name: sentimentscore, dtype: object"
      ]
     },
     "execution_count": 47,
     "metadata": {},
     "output_type": "execute_result"
    },
    {
     "data": {
      "image/png": "[encoded data removed]",
      "text/plain": [
       "<Figure size 432x288 with 1 Axes>"
      ]
     },
     "metadata": {
      "needs_background": "light"
     },
     "output_type": "display_data"
    }
   ],
   "source": [
    "lyrics_data.groupby('Artist')['sentimentscore'].plot(kind=\"hist\",density=True,alpha=0.5,legend=True)"
   ]
  },
  {
   "cell_type": "markdown",
   "id": "b3fe644d",
   "metadata": {},
   "source": [
    "## Sentiment Analysis on Twitter Descriptions\n",
    "\n",
    "In this section, define two sets of emojis you designate as positive and negative. Make sure to have at least 10 emojis per set. You can learn about the most popular emojis on Twitter at [the emojitracker](https://emojitracker.com/). \n",
    "\n",
    "Associate your positive emojis with a score of +1, negative with -1. Score the average sentiment of your two artists based on the Twitter descriptions of their followers. The average sentiment can just be the total score divided by number of followers. You do not need to calculate sentiment on non-emoji content for this section."
   ]
  },
  {
   "cell_type": "code",
   "execution_count": 49,
   "id": "000cba16",
   "metadata": {},
   "outputs": [],
   "source": [
    "punctuation = set(punctuation) # speeds up comparison\n",
    "def remove_stop(tokens):\n",
    "    return [t for t in tokens if t.lower() not in stopwords]\n",
    "def tokenize(text):\n",
    "    return re.findall(r'[\\w-]*\\p{L}[\\w-]*', text)\n",
    "\n",
    "pipeline = [str.lower, tokenize, remove_stop]\n",
    "def prepare(text, pipeline):\n",
    "    tokens = text\n",
    "    for transform in pipeline:\n",
    "        tokens = transform(tokens)\n",
    "    return tokens\n"
   ]
  },
  {
   "cell_type": "code",
   "execution_count": 62,
   "id": "b43bef36",
   "metadata": {},
   "outputs": [],
   "source": [
    "twitterdf = pd.DataFrame([(k, x) for k, v in twitter_data.items() for x in v], columns=['artist','description'])\n",
    "twitterdf['tokens'] = twitterdf['description'].apply(prepare, pipeline=pipeline)\n",
    "chertweets = twitterdf[twitterdf[\"artist\"] == \"cher\"]\n",
    "robyntweets = twitterdf[twitterdf[\"artist\"] != \"cher\"]"
   ]
  },
  {
   "cell_type": "code",
   "execution_count": 67,
   "id": "9a002576",
   "metadata": {},
   "outputs": [
    {
     "name": "stderr",
     "output_type": "stream",
     "text": [
      "/var/folders/4w/bl1whnz1491dljnl9k34l06h0000gn/T/ipykernel_59369/1852858735.py:12: SettingWithCopyWarning: \n",
      "A value is trying to be set on a copy of a slice from a DataFrame.\n",
      "Try using .loc[row_indexer,col_indexer] = value instead\n",
      "\n",
      "See the caveats in the documentation: https://pandas.pydata.org/pandas-docs/stable/user_guide/indexing.html#returning-a-view-versus-a-copy\n",
      "  chertweets['has_emoji'] = contains_emoji\n"
     ]
    }
   ],
   "source": [
    "contains_emoji = []\n",
    "emojis = []\n",
    "            \n",
    "for row in chertweets['description']:\n",
    "    emoji_found = False\n",
    "    for char in row:\n",
    "        if emoji.is_emoji(char):\n",
    "            emoji_found = True\n",
    "            emojis.append(char)\n",
    "    contains_emoji.append(emoji_found)\n",
    "\n",
    "chertweets['has_emoji'] = contains_emoji"
   ]
  },
  {
   "cell_type": "code",
   "execution_count": 68,
   "id": "9fb8fdd4",
   "metadata": {},
   "outputs": [],
   "source": [
    "cheremojis = emojis\n",
    "cheremojis = pd.DataFrame(cheremojis, columns=['emojis'])"
   ]
  },
  {
   "cell_type": "code",
   "execution_count": 73,
   "id": "2f479815",
   "metadata": {},
   "outputs": [
    {
     "data": {
      "text/html": [
       "<div>\n",
       "<style scoped>\n",
       "    .dataframe tbody tr th:only-of-type {\n",
       "        vertical-align: middle;\n",
       "    }\n",
       "\n",
       "    .dataframe tbody tr th {\n",
       "        vertical-align: top;\n",
       "    }\n",
       "\n",
       "    .dataframe thead th {\n",
       "        text-align: right;\n",
       "    }\n",
       "</style>\n",
       "<table border=\"1\" class=\"dataframe\">\n",
       "  <thead>\n",
       "    <tr style=\"text-align: right;\">\n",
       "      <th></th>\n",
       "      <th>emojis</th>\n",
       "    </tr>\n",
       "  </thead>\n",
       "  <tbody>\n",
       "    <tr>\n",
       "      <th>0</th>\n",
       "      <td>💜</td>\n",
       "    </tr>\n",
       "    <tr>\n",
       "      <th>1</th>\n",
       "      <td>🍒</td>\n",
       "    </tr>\n",
       "    <tr>\n",
       "      <th>2</th>\n",
       "      <td>💓</td>\n",
       "    </tr>\n",
       "    <tr>\n",
       "      <th>3</th>\n",
       "      <td>🧡</td>\n",
       "    </tr>\n",
       "    <tr>\n",
       "      <th>4</th>\n",
       "      <td>🖤</td>\n",
       "    </tr>\n",
       "    <tr>\n",
       "      <th>...</th>\n",
       "      <td>...</td>\n",
       "    </tr>\n",
       "    <tr>\n",
       "      <th>1155297</th>\n",
       "      <td>🎮</td>\n",
       "    </tr>\n",
       "    <tr>\n",
       "      <th>1155298</th>\n",
       "      <td>🌴</td>\n",
       "    </tr>\n",
       "    <tr>\n",
       "      <th>1155299</th>\n",
       "      <td>🔮</td>\n",
       "    </tr>\n",
       "    <tr>\n",
       "      <th>1155300</th>\n",
       "      <td>🐕</td>\n",
       "    </tr>\n",
       "    <tr>\n",
       "      <th>1155301</th>\n",
       "      <td>🧞</td>\n",
       "    </tr>\n",
       "  </tbody>\n",
       "</table>\n",
       "<p>1155302 rows × 1 columns</p>\n",
       "</div>"
      ],
      "text/plain": [
       "        emojis\n",
       "0            💜\n",
       "1            🍒\n",
       "2            💓\n",
       "3            🧡\n",
       "4            🖤\n",
       "...        ...\n",
       "1155297      🎮\n",
       "1155298      🌴\n",
       "1155299      🔮\n",
       "1155300      🐕\n",
       "1155301      🧞\n",
       "\n",
       "[1155302 rows x 1 columns]"
      ]
     },
     "execution_count": 73,
     "metadata": {},
     "output_type": "execute_result"
    }
   ],
   "source": [
    "cheremojis"
   ]
  },
  {
   "cell_type": "code",
   "execution_count": 71,
   "id": "e8202b3e",
   "metadata": {},
   "outputs": [
    {
     "name": "stderr",
     "output_type": "stream",
     "text": [
      "/var/folders/4w/bl1whnz1491dljnl9k34l06h0000gn/T/ipykernel_59369/2594886227.py:12: SettingWithCopyWarning: \n",
      "A value is trying to be set on a copy of a slice from a DataFrame.\n",
      "Try using .loc[row_indexer,col_indexer] = value instead\n",
      "\n",
      "See the caveats in the documentation: https://pandas.pydata.org/pandas-docs/stable/user_guide/indexing.html#returning-a-view-versus-a-copy\n",
      "  robyntweets['has_emoji'] = contains_emoji\n"
     ]
    }
   ],
   "source": [
    "contains_emoji = []\n",
    "emojis = []\n",
    "            \n",
    "for row in robyntweets['description']:\n",
    "    emoji_found = False\n",
    "    for char in row:\n",
    "        if emoji.is_emoji(char):\n",
    "            emoji_found = True\n",
    "            emojis.append(char)\n",
    "    contains_emoji.append(emoji_found)\n",
    "\n",
    "robyntweets['has_emoji'] = contains_emoji"
   ]
  },
  {
   "cell_type": "code",
   "execution_count": 72,
   "id": "59d50d37",
   "metadata": {},
   "outputs": [],
   "source": [
    "robynemojis = emojis\n",
    "robynemojis = pd.DataFrame(robynemojis, columns=['emojis'])"
   ]
  },
  {
   "cell_type": "code",
   "execution_count": 77,
   "id": "62615896",
   "metadata": {},
   "outputs": [
    {
     "name": "stdout",
     "output_type": "stream",
     "text": [
      "Top Cher Emojis\n",
      "['❤', '🌈', '♥', '🏳', '✨', '💙', '🏻', '🌊', '✌', '💜']\n",
      "\n",
      " Top Robyn Emojis\n",
      "['❤', '🌈', '🏳', '♥', '✨', '🏻', '✌', '🏼', '♀', '💙']\n"
     ]
    }
   ],
   "source": [
    "n = 10\n",
    "print(\"Top Cher Emojis\")\n",
    "print(cheremojis['emojis'].value_counts()[:n].index.tolist())\n",
    "print(\"\\n Top Robyn Emojis\")\n",
    "print(robynemojis['emojis'].value_counts()[:n].index.tolist())"
   ]
  },
  {
   "cell_type": "code",
   "execution_count": 88,
   "id": "54de57f4",
   "metadata": {},
   "outputs": [],
   "source": [
    "pos_score = 1\n",
    "neg_score = -1\n",
    "emojidict = {}\n",
    "\n",
    "emojidict[\"🤡\"] = neg_score\n",
    "emojidict[\"😠\"] = neg_score\n",
    "emojidict[\"😭\"] = neg_score\n",
    "emojidict[\"💀\"] = neg_score\n",
    "emojidict[\"😖\"] = neg_score\n",
    "emojidict[\"💢\"] = neg_score\n",
    "emojidict[\"❌\"] = neg_score\n",
    "emojidict[\"😑\"] = neg_score\n",
    "emojidict[\"😓\"] = neg_score\n",
    "emojidict[\"✋\"] = neg_score\n",
    "\n",
    "\n",
    "\n",
    "emojidict[\"💜\"] = pos_score\n",
    "emojidict[\"🌈\"] = pos_score\n",
    "emojidict[\"❤\"] = pos_score\n",
    "emojidict[\"♥\"] = pos_score\n",
    "emojidict[\"✨\"] = pos_score\n",
    "emojidict[\"✌\"] = pos_score\n",
    "emojidict[\"❤️\"] = pos_score\n",
    "emojidict[\"😍\"] = pos_score\n",
    "emojidict[\"👯\"] = pos_score\n",
    "emojidict[\"💞\"] = pos_score\n",
    "\n"
   ]
  },
  {
   "cell_type": "code",
   "execution_count": 89,
   "id": "1a5c1d25",
   "metadata": {
    "scrolled": true
   },
   "outputs": [
    {
     "data": {
      "text/plain": [
       "{'🤡': -1,\n",
       " '😠': -1,\n",
       " '😭': -1,\n",
       " '💀': -1,\n",
       " '😖': -1,\n",
       " '💢': -1,\n",
       " '❌': -1,\n",
       " '😑': -1,\n",
       " '😓': -1,\n",
       " '✋': -1,\n",
       " '💜': 1,\n",
       " '🌈': 1,\n",
       " '❤': 1,\n",
       " '♥': 1,\n",
       " '✨': 1,\n",
       " '✌': 1,\n",
       " '❤️': 1,\n",
       " '😍': 1,\n",
       " '👯': 1,\n",
       " '💞': 1}"
      ]
     },
     "execution_count": 89,
     "metadata": {},
     "output_type": "execute_result"
    }
   ],
   "source": [
    "emojidict"
   ]
  },
  {
   "cell_type": "code",
   "execution_count": 90,
   "id": "39c51d11",
   "metadata": {},
   "outputs": [],
   "source": [
    "def emoji_sentiment_score(text):\n",
    "    sentiment_score = 0\n",
    "    bag_of_words = word_tokenize(text.lower())\n",
    "    for word in bag_of_words:\n",
    "        if word in emojidict:\n",
    "            sentiment_score += emojidict[word]\n",
    "    return (sentiment_score / len(bag_of_words))"
   ]
  },
  {
   "cell_type": "code",
   "execution_count": 91,
   "id": "8c97767b",
   "metadata": {},
   "outputs": [],
   "source": [
    "cheremojis['sentimentscore'] = cheremojis['emojis'].apply(emoji_sentiment_score)\n",
    "robynemojis['sentimentscore'] = robynemojis['emojis'].apply(emoji_sentiment_score)"
   ]
  },
  {
   "cell_type": "code",
   "execution_count": 92,
   "id": "027e5a6e",
   "metadata": {},
   "outputs": [
    {
     "data": {
      "text/plain": [
       "0.19885017077785722"
      ]
     },
     "execution_count": 92,
     "metadata": {},
     "output_type": "execute_result"
    }
   ],
   "source": [
    "cheremojis[\"sentimentscore\"].mean()"
   ]
  },
  {
   "cell_type": "code",
   "execution_count": 93,
   "id": "3541b90b",
   "metadata": {},
   "outputs": [
    {
     "data": {
      "text/plain": [
       "0.21578323803636737"
      ]
     },
     "execution_count": 93,
     "metadata": {},
     "output_type": "execute_result"
    }
   ],
   "source": [
    "robynemojis[\"sentimentscore\"].mean()"
   ]
  },
  {
   "cell_type": "code",
   "execution_count": 96,
   "id": "32742738",
   "metadata": {},
   "outputs": [],
   "source": [
    "positivecheremojis = cheremojis[cheremojis[\"sentimentscore\"] == 1.0]\n",
    "negativecheremojis = cheremojis[cheremojis[\"sentimentscore\"] == -1.0]\n",
    "positiverobynemojis = robynemojis[robynemojis[\"sentimentscore\"] == 1.0]\n",
    "negativerobynemojis = robynemojis[robynemojis[\"sentimentscore\"] == -1.0]\n"
   ]
  },
  {
   "cell_type": "code",
   "execution_count": 97,
   "id": "963fb122",
   "metadata": {},
   "outputs": [
    {
     "data": {
      "text/plain": [
       "emojis\n",
       "❤    79223\n",
       "🌈    47549\n",
       "♥    33978\n",
       "✨    29468\n",
       "✌    16773\n",
       "💜    16550\n",
       "😍     8189\n",
       "💞     3291\n",
       "👯      388\n",
       "Name: count, dtype: int64"
      ]
     },
     "execution_count": 97,
     "metadata": {},
     "output_type": "execute_result"
    }
   ],
   "source": [
    "positivecheremojis['emojis'].value_counts()"
   ]
  },
  {
   "cell_type": "code",
   "execution_count": 98,
   "id": "eb838f92",
   "metadata": {},
   "outputs": [
    {
     "data": {
      "text/plain": [
       "emojis\n",
       "💀    1808\n",
       "❌    1065\n",
       "🤡    1023\n",
       "😭     730\n",
       "✋     580\n",
       "😑     183\n",
       "😠     115\n",
       "💢      68\n",
       "😖      54\n",
       "😓      51\n",
       "Name: count, dtype: int64"
      ]
     },
     "execution_count": 98,
     "metadata": {},
     "output_type": "execute_result"
    }
   ],
   "source": [
    "negativecheremojis['emojis'].value_counts()"
   ]
  },
  {
   "cell_type": "code",
   "execution_count": 99,
   "id": "992a5f51",
   "metadata": {},
   "outputs": [
    {
     "data": {
      "text/plain": [
       "emojis\n",
       "❤    4783\n",
       "🌈    4685\n",
       "♥    3103\n",
       "✨    2223\n",
       "✌    1189\n",
       "💜     739\n",
       "😍     264\n",
       "💞      88\n",
       "👯      26\n",
       "Name: count, dtype: int64"
      ]
     },
     "execution_count": 99,
     "metadata": {},
     "output_type": "execute_result"
    }
   ],
   "source": [
    "positiverobynemojis['emojis'].value_counts()"
   ]
  },
  {
   "cell_type": "code",
   "execution_count": 100,
   "id": "14b61656",
   "metadata": {},
   "outputs": [
    {
     "data": {
      "text/plain": [
       "emojis\n",
       "💀    126\n",
       "❌     74\n",
       "🤡     52\n",
       "😭     41\n",
       "✋     28\n",
       "😑      9\n",
       "😠      6\n",
       "💢      4\n",
       "😓      4\n",
       "Name: count, dtype: int64"
      ]
     },
     "execution_count": 100,
     "metadata": {},
     "output_type": "execute_result"
    }
   ],
   "source": [
    "negativerobynemojis['emojis'].value_counts()"
   ]
  },
  {
   "cell_type": "markdown",
   "id": "fb92eb93",
   "metadata": {},
   "source": [
    "Q: What is the average sentiment of your two artists? \n",
    "\n",
    "A: Cher's average is 0.19 and Robyn's is 0.21.\n",
    "\n",
    "---\n",
    "\n",
    "Q: Which positive emoji is the most popular for each artist? Which negative emoji? \n",
    "\n",
    "A: The little black heart is the most popular positive emoji for both artists, and the skull is themost popular negative emoji for both artists.\n",
    "\n"
   ]
  },
  {
   "cell_type": "code",
   "execution_count": null,
   "id": "d70bbf23",
   "metadata": {},
   "outputs": [],
   "source": []
  }
 ],
 "metadata": {
  "kernelspec": {
   "display_name": "Python 3 (ipykernel)",
   "language": "python",
   "name": "python3"
  },
  "language_info": {
   "codemirror_mode": {
    "name": "ipython",
    "version": 3
   },
   "file_extension": ".py",
   "mimetype": "text/x-python",
   "name": "python",
   "nbconvert_exporter": "python",
   "pygments_lexer": "ipython3",
   "version": "3.9.7"
  }
 },
 "nbformat": 4,
 "nbformat_minor": 5
}
